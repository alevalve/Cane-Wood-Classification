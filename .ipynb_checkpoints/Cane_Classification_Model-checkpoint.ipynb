{
 "cells": [
  {
   "cell_type": "code",
   "execution_count": 2,
   "id": "fdc7832b-50c4-47a3-a33b-a96c8ea8404c",
   "metadata": {
    "execution": {
     "iopub.execute_input": "2023-02-14T22:54:08.251731Z",
     "iopub.status.busy": "2023-02-14T22:54:08.251359Z",
     "iopub.status.idle": "2023-02-14T22:54:08.257139Z",
     "shell.execute_reply": "2023-02-14T22:54:08.256409Z",
     "shell.execute_reply.started": "2023-02-14T22:54:08.251706Z"
    },
    "tags": []
   },
   "outputs": [],
   "source": [
    "TF_ENABLE_ONEDNN_OPTS=1\n",
    "import os\n",
    "import numpy as np\n",
    "import tensorflow as tf\n",
    "import matplotlib.pyplot as plt\n",
    "import pandas as pd\n",
    "import pickle\n",
    "from pathlib import Path\n",
    "import scipy\n",
    "from tensorflow.keras.preprocessing.image import ImageDataGenerator\n",
    "from PIL import Image\n",
    "import skimage\n",
    "import glob\n",
    "import matplotlib.image as mpimg\n",
    "import imghdr\n",
    "import numpy.ma as ma\n",
    "import keras\n",
    "from keras.models import Sequential\n",
    "from keras.layers import Dense, Dropout, Flatten\n",
    "from keras.layers import Conv2D, MaxPooling2D\n",
    "from sklearn.model_selection import train_test_split\n",
    "from tensorflow.keras import datasets, layers, models"
   ]
  },
  {
   "cell_type": "code",
   "execution_count": 1,
   "id": "6fffa928-ef7f-4462-b432-0bdc77e3f069",
   "metadata": {
    "execution": {
     "iopub.execute_input": "2023-02-14T22:52:30.664038Z",
     "iopub.status.busy": "2023-02-14T22:52:30.663596Z",
     "iopub.status.idle": "2023-02-14T22:52:40.251315Z",
     "shell.execute_reply": "2023-02-14T22:52:40.250394Z",
     "shell.execute_reply.started": "2023-02-14T22:52:30.663961Z"
    }
   },
   "outputs": [
    {
     "name": "stdout",
     "output_type": "stream",
     "text": [
      "Collecting scikit-image\n",
      "  Using cached scikit_image-0.19.3-cp39-cp39-manylinux_2_17_x86_64.manylinux2014_x86_64.whl (14.0 MB)\n",
      "Collecting scipy>=1.4.1\n",
      "  Using cached scipy-1.10.0-cp39-cp39-manylinux_2_17_x86_64.manylinux2014_x86_64.whl (34.4 MB)\n",
      "Collecting imageio>=2.4.1\n",
      "  Using cached imageio-2.25.1-py3-none-any.whl (3.4 MB)\n",
      "Collecting networkx>=2.2\n",
      "  Using cached networkx-3.0-py3-none-any.whl (2.0 MB)\n",
      "Collecting PyWavelets>=1.1.1\n",
      "  Using cached PyWavelets-1.4.1-cp39-cp39-manylinux_2_17_x86_64.manylinux2014_x86_64.whl (6.9 MB)\n",
      "Collecting tifffile>=2019.7.26\n",
      "  Using cached tifffile-2023.2.3-py3-none-any.whl (215 kB)\n",
      "Requirement already satisfied: packaging>=20.0 in /opt/saturncloud/envs/saturn/lib/python3.9/site-packages (from scikit-image) (21.3)\n",
      "Requirement already satisfied: pillow!=7.1.0,!=7.1.1,!=8.3.0,>=6.1.0 in /opt/saturncloud/envs/saturn/lib/python3.9/site-packages (from scikit-image) (9.2.0)\n",
      "Requirement already satisfied: numpy>=1.17.0 in /opt/saturncloud/envs/saturn/lib/python3.9/site-packages (from scikit-image) (1.21.6)\n",
      "Requirement already satisfied: pyparsing!=3.0.5,>=2.0.2 in /opt/saturncloud/envs/saturn/lib/python3.9/site-packages (from packaging>=20.0->scikit-image) (3.0.9)\n",
      "Installing collected packages: tifffile, scipy, PyWavelets, networkx, imageio, scikit-image\n",
      "Successfully installed PyWavelets-1.4.1 imageio-2.25.1 networkx-3.0 scikit-image-0.19.3 scipy-1.10.0 tifffile-2023.2.3\n",
      "Note: you may need to restart the kernel to use updated packages.\n"
     ]
    }
   ],
   "source": [
    "pip install scikit-image"
   ]
  },
  {
   "cell_type": "code",
   "execution_count": 2,
   "id": "4be6c6fc-3d84-4d27-a99f-26149c497972",
   "metadata": {
    "execution": {
     "iopub.execute_input": "2023-02-14T22:52:47.162048Z",
     "iopub.status.busy": "2023-02-14T22:52:47.161637Z",
     "iopub.status.idle": "2023-02-14T22:52:51.727144Z",
     "shell.execute_reply": "2023-02-14T22:52:51.726032Z",
     "shell.execute_reply.started": "2023-02-14T22:52:47.162019Z"
    },
    "tags": []
   },
   "outputs": [
    {
     "name": "stdout",
     "output_type": "stream",
     "text": [
      "Collecting scikit-learn\n",
      "  Using cached scikit_learn-1.2.1-cp39-cp39-manylinux_2_17_x86_64.manylinux2014_x86_64.whl (9.6 MB)\n",
      "Requirement already satisfied: numpy>=1.17.3 in /opt/saturncloud/envs/saturn/lib/python3.9/site-packages (from scikit-learn) (1.21.6)\n",
      "Requirement already satisfied: scipy>=1.3.2 in /opt/saturncloud/envs/saturn/lib/python3.9/site-packages (from scikit-learn) (1.10.0)\n",
      "Collecting threadpoolctl>=2.0.0\n",
      "  Using cached threadpoolctl-3.1.0-py3-none-any.whl (14 kB)\n",
      "Collecting joblib>=1.1.1\n",
      "  Using cached joblib-1.2.0-py3-none-any.whl (297 kB)\n",
      "Installing collected packages: threadpoolctl, joblib, scikit-learn\n",
      "Successfully installed joblib-1.2.0 scikit-learn-1.2.1 threadpoolctl-3.1.0\n",
      "Note: you may need to restart the kernel to use updated packages.\n"
     ]
    }
   ],
   "source": [
    "pip install scikit-learn"
   ]
  },
  {
   "cell_type": "code",
   "execution_count": 3,
   "id": "b5cfc77a-f864-4786-acf2-19b9ee0d3d74",
   "metadata": {
    "execution": {
     "iopub.execute_input": "2023-02-14T22:54:14.343533Z",
     "iopub.status.busy": "2023-02-14T22:54:14.343162Z",
     "iopub.status.idle": "2023-02-14T22:54:14.427015Z",
     "shell.execute_reply": "2023-02-14T22:54:14.426136Z",
     "shell.execute_reply.started": "2023-02-14T22:54:14.343507Z"
    }
   },
   "outputs": [
    {
     "name": "stdout",
     "output_type": "stream",
     "text": [
      "Num GPUs Available:  1\n"
     ]
    },
    {
     "name": "stderr",
     "output_type": "stream",
     "text": [
      "2023-02-14 22:54:14.414005: I tensorflow/stream_executor/cuda/cuda_gpu_executor.cc:975] successful NUMA node read from SysFS had negative value (-1), but there must be at least one NUMA node, so returning NUMA node zero\n",
      "2023-02-14 22:54:14.421581: I tensorflow/stream_executor/cuda/cuda_gpu_executor.cc:975] successful NUMA node read from SysFS had negative value (-1), but there must be at least one NUMA node, so returning NUMA node zero\n",
      "2023-02-14 22:54:14.422216: I tensorflow/stream_executor/cuda/cuda_gpu_executor.cc:975] successful NUMA node read from SysFS had negative value (-1), but there must be at least one NUMA node, so returning NUMA node zero\n"
     ]
    }
   ],
   "source": [
    "## Print GPUS\n",
    "\n",
    "print(\"Num GPUs Available: \", len(tf.config.list_physical_devices('GPU')))"
   ]
  },
  {
   "cell_type": "code",
   "execution_count": 4,
   "id": "7d99f991-e286-46ef-adfe-c2ff25b6e367",
   "metadata": {
    "execution": {
     "iopub.execute_input": "2023-02-14T22:54:17.145216Z",
     "iopub.status.busy": "2023-02-14T22:54:17.144841Z",
     "iopub.status.idle": "2023-02-14T22:54:17.149301Z",
     "shell.execute_reply": "2023-02-14T22:54:17.148550Z",
     "shell.execute_reply.started": "2023-02-14T22:54:17.145188Z"
    }
   },
   "outputs": [],
   "source": [
    "## Image generator\n",
    "image_generator = ImageDataGenerator(\n",
    "        rescale=1/255,\n",
    "        rotation_range=10, # rotation\n",
    "        width_shift_range=0.2, # horizontal shift\n",
    "        height_shift_range=0.2, # vertical shift\n",
    "        zoom_range=0.2, # zoom\n",
    "        horizontal_flip=True, # horizontal flip\n",
    "        brightness_range=[0.2,1.2],# brightness\n",
    "        validation_split=0.2,)"
   ]
  },
  {
   "cell_type": "code",
   "execution_count": 8,
   "id": "c9efd227-15b6-405b-8fe4-7f6d246f21e0",
   "metadata": {
    "execution": {
     "iopub.execute_input": "2023-02-14T22:57:19.733242Z",
     "iopub.status.busy": "2023-02-14T22:57:19.732805Z",
     "iopub.status.idle": "2023-02-14T22:57:19.779799Z",
     "shell.execute_reply": "2023-02-14T22:57:19.779118Z",
     "shell.execute_reply.started": "2023-02-14T22:57:19.733213Z"
    },
    "tags": []
   },
   "outputs": [
    {
     "name": "stdout",
     "output_type": "stream",
     "text": [
      "Found 421 images belonging to 2 classes.\n",
      "Found 41 images belonging to 2 classes.\n"
     ]
    }
   ],
   "source": [
    "## Train and Val datasets\n",
    "\n",
    "train_dataset = image_generator.flow_from_directory('Train_Set/',\n",
    "                                          target_size = (224, 224),\n",
    "                                          shuffle=True,\n",
    "                                          subset=\"training\",\n",
    "                                          batch_size = 32,\n",
    "                                          class_mode = 'binary')\n",
    "\n",
    "val_dataset = image_generator.flow_from_directory('Validation_Set/',\n",
    "                                          target_size = (224, 224),\n",
    "                                          shuffle=True,\n",
    "                                          subset=\"validation\",\n",
    "                                          batch_size = 32,\n",
    "                                          class_mode = 'binary')"
   ]
  },
  {
   "cell_type": "code",
   "execution_count": 9,
   "id": "43414a19-771d-44fc-a13a-7be7f8031233",
   "metadata": {
    "execution": {
     "iopub.execute_input": "2023-02-14T22:57:23.916770Z",
     "iopub.status.busy": "2023-02-14T22:57:23.916398Z",
     "iopub.status.idle": "2023-02-14T22:57:24.949204Z",
     "shell.execute_reply": "2023-02-14T22:57:24.948410Z",
     "shell.execute_reply.started": "2023-02-14T22:57:23.916743Z"
    }
   },
   "outputs": [
    {
     "name": "stderr",
     "output_type": "stream",
     "text": [
      "2023-02-14 22:57:23.933931: I tensorflow/core/platform/cpu_feature_guard.cc:193] This TensorFlow binary is optimized with oneAPI Deep Neural Network Library (oneDNN) to use the following CPU instructions in performance-critical operations:  AVX2 AVX512F AVX512_VNNI FMA\n",
      "To enable them in other operations, rebuild TensorFlow with the appropriate compiler flags.\n",
      "2023-02-14 22:57:23.934435: I tensorflow/stream_executor/cuda/cuda_gpu_executor.cc:975] successful NUMA node read from SysFS had negative value (-1), but there must be at least one NUMA node, so returning NUMA node zero\n",
      "2023-02-14 22:57:23.935228: I tensorflow/stream_executor/cuda/cuda_gpu_executor.cc:975] successful NUMA node read from SysFS had negative value (-1), but there must be at least one NUMA node, so returning NUMA node zero\n",
      "2023-02-14 22:57:23.935840: I tensorflow/stream_executor/cuda/cuda_gpu_executor.cc:975] successful NUMA node read from SysFS had negative value (-1), but there must be at least one NUMA node, so returning NUMA node zero\n",
      "2023-02-14 22:57:24.600465: I tensorflow/stream_executor/cuda/cuda_gpu_executor.cc:975] successful NUMA node read from SysFS had negative value (-1), but there must be at least one NUMA node, so returning NUMA node zero\n",
      "2023-02-14 22:57:24.601171: I tensorflow/stream_executor/cuda/cuda_gpu_executor.cc:975] successful NUMA node read from SysFS had negative value (-1), but there must be at least one NUMA node, so returning NUMA node zero\n",
      "2023-02-14 22:57:24.601744: I tensorflow/stream_executor/cuda/cuda_gpu_executor.cc:975] successful NUMA node read from SysFS had negative value (-1), but there must be at least one NUMA node, so returning NUMA node zero\n",
      "2023-02-14 22:57:24.602268: I tensorflow/core/common_runtime/gpu/gpu_device.cc:1532] Created device /job:localhost/replica:0/task:0/device:GPU:0 with 13795 MB memory:  -> device: 0, name: Tesla T4, pci bus id: 0000:00:1e.0, compute capability: 7.5\n"
     ]
    }
   ],
   "source": [
    "## Modelo base\n",
    "model = keras.models.Sequential([\n",
    "    keras.layers.Conv2D(32, (3, 3), activation='relu', input_shape = [224, 224,3]),\n",
    "    keras.layers.MaxPooling2D(pool_size=(2, 2),strides=(1, 1), padding='same'),\n",
    "    keras.layers.Conv2D(64, (2, 2), activation='relu'),\n",
    "    keras.layers.Conv2D(64, (2, 2), activation='relu'),\n",
    "    keras.layers.Conv2D(128, (2, 2), activation='relu'),\n",
    "    keras.layers.Conv2D(64, (2, 2), activation='relu'),\n",
    "    keras.layers.MaxPooling2D(pool_size=(2, 2),strides=(1, 1), padding='same'),\n",
    "    keras.layers.Flatten(),\n",
    "    keras.layers.Dense(100, activation='relu'),\n",
    "    keras.layers.Dense(2, activation ='relu')\n",
    "])\n",
    "model.compile(optimizer='sgd',\n",
    "             loss = 'binary_crossentropy',\n",
    "             metrics=['accuracy'])\n",
    "\n",
    "callback = keras.callbacks.EarlyStopping(monitor='val_loss',\n",
    "                                            patience=3,\n",
    "                                            restore_best_weights=True)"
   ]
  },
  {
   "cell_type": "code",
   "execution_count": 10,
   "id": "1a23496d-9914-4c08-9045-cd29f466761a",
   "metadata": {
    "execution": {
     "iopub.execute_input": "2023-02-14T22:57:28.004822Z",
     "iopub.status.busy": "2023-02-14T22:57:28.003053Z",
     "iopub.status.idle": "2023-02-14T23:00:11.380483Z",
     "shell.execute_reply": "2023-02-14T23:00:11.379879Z",
     "shell.execute_reply.started": "2023-02-14T22:57:28.004792Z"
    },
    "tags": []
   },
   "outputs": [
    {
     "name": "stdout",
     "output_type": "stream",
     "text": [
      "Epoch 1/20\n"
     ]
    },
    {
     "name": "stderr",
     "output_type": "stream",
     "text": [
      "2023-02-14 22:57:30.207385: I tensorflow/stream_executor/cuda/cuda_dnn.cc:384] Loaded cuDNN version 8100\n",
      "2023-02-14 22:57:30.876328: I tensorflow/core/platform/default/subprocess.cc:304] Start cannot spawn child process: No such file or directory\n",
      "2023-02-14 22:57:30.877257: I tensorflow/core/platform/default/subprocess.cc:304] Start cannot spawn child process: No such file or directory\n",
      "2023-02-14 22:57:30.877296: W tensorflow/stream_executor/gpu/asm_compiler.cc:80] Couldn't get ptxas version string: INTERNAL: Couldn't invoke ptxas --version\n",
      "2023-02-14 22:57:30.878343: I tensorflow/core/platform/default/subprocess.cc:304] Start cannot spawn child process: No such file or directory\n",
      "2023-02-14 22:57:30.878434: W tensorflow/stream_executor/gpu/redzone_allocator.cc:314] INTERNAL: Failed to launch ptxas\n",
      "Relying on driver to perform ptx compilation. \n",
      "Modify $PATH to customize ptxas location.\n",
      "This message will be only logged once.\n"
     ]
    },
    {
     "name": "stdout",
     "output_type": "stream",
     "text": [
      "14/14 [==============================] - 16s 669ms/step - loss: 4.8827 - accuracy: 0.3254 - val_loss: 2.9755 - val_accuracy: 0.1951\n",
      "Epoch 2/20\n",
      "14/14 [==============================] - 8s 522ms/step - loss: 4.8899 - accuracy: 0.3207 - val_loss: 2.9755 - val_accuracy: 0.1951\n",
      "Epoch 3/20\n",
      "14/14 [==============================] - 8s 522ms/step - loss: 4.8899 - accuracy: 0.3207 - val_loss: 2.9755 - val_accuracy: 0.1951\n",
      "Epoch 4/20\n",
      "14/14 [==============================] - 8s 523ms/step - loss: 4.8899 - accuracy: 0.3207 - val_loss: 2.9755 - val_accuracy: 0.1951\n",
      "Epoch 5/20\n",
      "14/14 [==============================] - 8s 525ms/step - loss: 4.8899 - accuracy: 0.3207 - val_loss: 2.9755 - val_accuracy: 0.1951\n",
      "Epoch 6/20\n",
      "14/14 [==============================] - 8s 533ms/step - loss: 4.8899 - accuracy: 0.3207 - val_loss: 2.9755 - val_accuracy: 0.1951\n",
      "Epoch 7/20\n",
      "14/14 [==============================] - 8s 525ms/step - loss: 4.8899 - accuracy: 0.3207 - val_loss: 2.9755 - val_accuracy: 0.1951\n",
      "Epoch 8/20\n",
      "14/14 [==============================] - 8s 530ms/step - loss: 4.8899 - accuracy: 0.3207 - val_loss: 2.9755 - val_accuracy: 0.1951\n",
      "Epoch 9/20\n",
      "14/14 [==============================] - 8s 526ms/step - loss: 4.8899 - accuracy: 0.3207 - val_loss: 2.9755 - val_accuracy: 0.1951\n",
      "Epoch 10/20\n",
      "14/14 [==============================] - 8s 527ms/step - loss: 4.8899 - accuracy: 0.3207 - val_loss: 2.9755 - val_accuracy: 0.1951\n",
      "Epoch 11/20\n",
      "14/14 [==============================] - 7s 503ms/step - loss: 4.8899 - accuracy: 0.3207 - val_loss: 2.9755 - val_accuracy: 0.1951\n",
      "Epoch 12/20\n",
      "14/14 [==============================] - 8s 529ms/step - loss: 4.8899 - accuracy: 0.3207 - val_loss: 2.9755 - val_accuracy: 0.1951\n",
      "Epoch 13/20\n",
      "14/14 [==============================] - 7s 560ms/step - loss: 4.8899 - accuracy: 0.3207 - val_loss: 2.9755 - val_accuracy: 0.1951\n",
      "Epoch 14/20\n",
      "14/14 [==============================] - 8s 508ms/step - loss: 4.8899 - accuracy: 0.3207 - val_loss: 2.9755 - val_accuracy: 0.1951\n",
      "Epoch 15/20\n",
      "14/14 [==============================] - 8s 531ms/step - loss: 4.8899 - accuracy: 0.3207 - val_loss: 2.9755 - val_accuracy: 0.1951\n",
      "Epoch 16/20\n",
      "14/14 [==============================] - 8s 537ms/step - loss: 4.8899 - accuracy: 0.3207 - val_loss: 2.9755 - val_accuracy: 0.1951\n",
      "Epoch 17/20\n",
      "14/14 [==============================] - 8s 532ms/step - loss: 4.8899 - accuracy: 0.3207 - val_loss: 2.9755 - val_accuracy: 0.1951\n",
      "Epoch 18/20\n",
      "14/14 [==============================] - 8s 536ms/step - loss: 4.8899 - accuracy: 0.3207 - val_loss: 2.9755 - val_accuracy: 0.1951\n",
      "Epoch 19/20\n",
      "14/14 [==============================] - 8s 563ms/step - loss: 4.8899 - accuracy: 0.3207 - val_loss: 2.9755 - val_accuracy: 0.1951\n",
      "Epoch 20/20\n",
      "14/14 [==============================] - 8s 537ms/step - loss: 4.8899 - accuracy: 0.3207 - val_loss: 2.9755 - val_accuracy: 0.1951\n"
     ]
    },
    {
     "data": {
      "text/plain": [
       "<keras.callbacks.History at 0x7f1f3e260370>"
      ]
     },
     "execution_count": 10,
     "metadata": {},
     "output_type": "execute_result"
    }
   ],
   "source": [
    "## Entrenar modelo\n",
    "model.fit(train_dataset, epochs=20, validation_data=val_dataset)"
   ]
  },
  {
   "cell_type": "code",
   "execution_count": null,
   "id": "17316026-573e-4192-b145-ce1b57413b31",
   "metadata": {},
   "outputs": [],
   "source": []
  }
 ],
 "metadata": {
  "kernelspec": {
   "display_name": "saturn (Python 3)",
   "language": "python",
   "name": "python3"
  },
  "language_info": {
   "codemirror_mode": {
    "name": "ipython",
    "version": 3
   },
   "file_extension": ".py",
   "mimetype": "text/x-python",
   "name": "python",
   "nbconvert_exporter": "python",
   "pygments_lexer": "ipython3",
   "version": "3.9.13"
  }
 },
 "nbformat": 4,
 "nbformat_minor": 5
}
